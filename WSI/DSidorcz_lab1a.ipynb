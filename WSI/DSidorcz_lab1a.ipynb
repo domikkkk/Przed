{
  "cells": [
    {
      "cell_type": "markdown",
      "source": [
        "#Zadanie 1a (3 pkt)\n",
        "Celem zadania jest rozwiązanie problemu plecakowego dwoma metodami - brute force oraz według zadanej heurystyki. Należy zaimplementować metody klasy *KnapSack* - *solve_knapsack_brute_force* oraz *solve_knapsack_pw_ratio*. Poprzez rozwiązanie problemu rozumiemy podanie które przedmioty (indeksy w tablicy) należy spakować do plecaka oraz jaka jest sumaryczna wartość i masa plecaka. Punktacja wygląda następująco:\n",
        "\n",
        "\n",
        "*   Rozwiązanie problemu metodą brute force. *Podpowiedź: do wygenerowania wszystkich permutacji można użyć funkcji product z biblioteki itertools* - **1.5 pkt**\n",
        "*   Rozwiązanie problemu według heurystyki - do plecaka pakujemy przedmioty według stosunku wartości do wagi - **1 pkt**\n",
        "*   Dla metody brute force proszę wygenerować wykres zależności czasu wykonywania metody od liczby elementów w tablicach *weights* i *profits* (do obu tablic należy stopniowo dopisywać po jednym elemencie, np. 10-krotnie, wartości elementów nie mają znaczenia). Proszę również odpowiedzieć na pytania (w osobnej komórce tekstowej) - czy obie metody mają takie same rozwiązania? Jakie są Pani / Pana wnioski? - **0.5 pkt**\n",
        "\n",
        "\n"
      ],
      "metadata": {
        "id": "88lxDms-saqt"
      }
    },
    {
      "cell_type": "code",
      "source": [
        "import numpy as np\n",
        "import itertools as it\n",
        "import time\n",
        "import matplotlib.pyplot as plt"
      ],
      "outputs": [],
      "execution_count": null,
      "metadata": {
        "id": "1X0PiYKZ2w63"
      }
    },
    {
      "cell_type": "code",
      "source": [
        "weights = np.array([8, 3, 5, 2, 3, 5, 4, 6, 3, 1])\n",
        "capacity = 9\n",
        "profits = np.array([16, 8, 9, 6, 5, 11, 7, 7, 9, 2])"
      ],
      "outputs": [],
      "execution_count": null,
      "metadata": {
        "id": "_IOCNGpCuy8s"
      }
    },
    {
      "cell_type": "code",
      "source": [
        "class KnapSack:\n",
        "  def __init__(self, profits, weights, capacity):\n",
        "    self.profits = profits\n",
        "    self.weights = weights\n",
        "    self.capacity = capacity\n",
        "\n",
        "  def solve_knapsack_brute_force(self):\n",
        "    permutations = list(it.product([0, 1], repeat=len(self.profits)))\n",
        "    best_profit = 0\n",
        "    best_weight = 0  # waga dla best_profitu\n",
        "    for permutation in permutations:\n",
        "      permutation = np.array(list(permutation))\n",
        "      actual_weight = sum(permutation * self.weights)\n",
        "      actual_profit = sum(permutation * self.profits)\n",
        "      if actual_weight <= self.capacity and actual_profit > best_profit:\n",
        "        best_profit = actual_profit\n",
        "        best_weight = actual_weight\n",
        "        best_permutation = permutation\n",
        "    best_permutation = [i for i in range(len(best_permutation)) if best_permutation[i]]\n",
        "    return best_permutation, best_profit, best_weight\n",
        "\n",
        "\n",
        "  def solve_knapsack_pw_ratio(self):\n",
        "    ratios = self.profits / self.weights\n",
        "    index = [i for i in range(len(ratios))]\n",
        "    packs = list(zip(ratios, self.profits, self.weights, index))\n",
        "    packs.sort(key=lambda x: x[0], reverse=True)\n",
        "    actual_weight = 0\n",
        "    actual_profit = 0\n",
        "    indexes = []\n",
        "    for ratio in packs:\n",
        "      if actual_weight + ratio[2] <= self.capacity:\n",
        "        indexes.append(ratio[3])\n",
        "        actual_weight += ratio[2]\n",
        "        actual_profit += ratio[1]\n",
        "    return indexes, actual_profit, actual_weight\n",
        "\n",
        "def generate_plot():\n",
        "  times_for_brute = []\n",
        "  times_for_her = []\n",
        "  steps = range(1, len(profits)+1)\n",
        "  for i in steps:\n",
        "    Backpack = KnapSack(profits[:i], weights[:i], capacity)\n",
        "    start = time.time()\n",
        "    Backpack.solve_knapsack_brute_force()\n",
        "    stop = time.time()\n",
        "    times_for_brute.append(stop - start)\n",
        "    start = time.time()\n",
        "    Backpack.solve_knapsack_pw_ratio()\n",
        "    stop = time.time()\n",
        "    times_for_her.append(stop - start)\n",
        "  plt.plot(steps, times_for_brute)\n",
        "  plt.plot(steps, times_for_her)\n",
        "  plt.show()"
      ],
      "outputs": [],
      "execution_count": null,
      "metadata": {
        "id": "s5J82x9WuSOh"
      }
    },
    {
      "cell_type": "code",
      "source": [
        "x = KnapSack(profits[:4], weights[:4], capacity)\n",
        "print(x.solve_knapsack_brute_force())\n",
        "print(x.solve_knapsack_pw_ratio())\n",
        "\n",
        "generate_plot()"
      ],
      "outputs": [
        {
          "output_type": "stream",
          "name": "stdout",
          "text": "([1, 2], 17, 8)\n([3, 1], 14, 5)\n"
        },
        {
          "output_type": "display_data",
          "data": {
            "text/plain": "<Figure size 432x288 with 1 Axes>",
            "image/png": "[encoded data removed]"
          },
          "metadata": {
            "needs_background": "light"
          }
        }
      ],
      "execution_count": null,
      "metadata": {
        "colab": {
          "base_uri": "https://localhost:8080/",
          "height": 300
        },
        "id": "byxhl-mAXwpO",
        "outputId": "9b966a5f-1700-4c54-f976-390117eb1f6e"
      }
    },
    {
      "cell_type": "markdown",
      "source": [
        "Jak widać obie metody mogą dać różne wyniki.\n",
        "Dla metody brute_force czas znalezienia najlepszego wyniku bardzo wzrasta już dla 8 elementów (jak na powyższym wykresie), gdyż ilość kombinacji rośnie wykładniczo."
      ],
      "metadata": {
        "id": "D-cyfiZV4eHy"
      }
    }
  ],
  "metadata": {
    "colab": {
      "collapsed_sections": [],
      "provenance": []
    },
    "kernelspec": {
      "display_name": "Python 3.10.0 64-bit",
      "language": "python",
      "name": "python3"
    },
    "language_info": {
      "codemirror_mode": {
        "name": "ipython",
        "version": 3
      },
      "file_extension": ".py",
      "mimetype": "text/x-python",
      "name": "python",
      "nbconvert_exporter": "python",
      "pygments_lexer": "ipython3",
      "version": "3.10.0"
    },
    "vscode": {
      "interpreter": {
        "hash": "f900a110278fd12c2255de7df19772e26213f03379b0c93cf70844dc203cb73b"
      }
    },
    "nteract": {
      "version": "nteract-front-end@1.0.0"
    }
  },
  "nbformat": 4,
  "nbformat_minor": 0
}